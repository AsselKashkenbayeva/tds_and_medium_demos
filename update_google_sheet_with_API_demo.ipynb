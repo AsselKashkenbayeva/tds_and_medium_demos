{
 "cells": [
  {
   "cell_type": "code",
   "execution_count": null,
   "metadata": {},
   "outputs": [],
   "source": [
    "import requests #library used to make API requests with Python\n",
    "import json #to read and write json formatted text in Python\n",
    "import pandas as pd\n",
    "import os\n",
    "\n",
    "client_id_google = 'your_client_id_in_string_format'\n",
    "client_secret_google = 'your_client_secret_in_string_format'\n",
    "refresh_token_google = 'your_refresh_token_in_string_format'"
   ]
  },
  {
   "cell_type": "code",
   "execution_count": null,
   "metadata": {},
   "outputs": [],
   "source": [
    "#this is the base url to POST a request to be able to get an access \n",
    "token\n",
    "url = \"https://www.googleapis.com/oauth2/v4/token\"\n",
    "#note the payload and headers are formatted as a dict\n",
    "payload = {\n",
    "    'client_id' : client_id_google ,\n",
    "    'client_secret' : client_secret_google,\n",
    "    'refresh_token' : refresh_token_google ,\n",
    "    'grant_type' : 'refresh_token', \n",
    "}\n",
    "headers = {\n",
    "    'Content-Type': \"application/x-www-form-urlencoded\",\n",
    "    'cache-control': \"no-cache\",\n",
    "    }\n",
    "#the response returns the response code whereas the response.text returns the associated json with the request\n",
    "response = requests.request(\"POST\", url, data=payload, headers=headers)\n",
    "#json.loads is used to parse the json object returned with the response\n",
    "response_dict = json.loads(response.text)\n",
    "#the values can be accessed like a dict object\n",
    "google_access_token = response_dict['access_token']"
   ]
  },
  {
   "cell_type": "code",
   "execution_count": null,
   "metadata": {},
   "outputs": [],
   "source": [
    "#dummy dataframe to update sheet with\n",
    "update_df = pd.DataFrame({'col1': [1,2,3], 'col2': [4,5,6], 'col3': [7,8,10]})\n",
    "\n",
    "#sheet ID of Google Sheet you want to update\n",
    "sheetId = 'your_sheet_ID'\n",
    "#the base Google Sheet API URL is appended with the sheetId and ends with '/values/{range}'\n",
    "google_put_url = ' https://sheets.googleapis.com/v4/spreadsheets/' + sheetId + '/values/{range}'\n",
    "\n",
    "#the headers are formatted as a dict with the access token which was retrieved from the previous call adding to the Authorization string. \n",
    "#the accept header is not necessary for the write call but required when a read operation is done. This parameter specifies how the response should be formatted. \n",
    "google_put_headers = {\n",
    "  'Content-Type': 'application/json',\n",
    "  'Authorization': 'Bearer %s' %google_access_token,\n",
    "  'Accept': 'application/json'\n",
    "}\n",
    "#the range parameter of 'Sheet1!A001' specifies that all sheet should be used\n",
    "google_put_params  ={\n",
    "  'valueInputOption': 'USER_ENTERED',\n",
    "    \"range\": \"Sheet1!A001\",\n",
    "    }\n",
    "\n",
    "#the dataframe that will be used to update the sheet needs to be formatted correctly for Google Sheets to receive it as input\n",
    "result = [update_df.columns.values.tolist()]\n",
    "result.extend(update_df.values.tolist())\n",
    "#it is crucial to convert the dataframe into a dictionary as shown below and to use json.dumps so that the request body can received by the api. There will be an error if json.dumps() is not used and the input is manually formatted into a json. \n",
    "request_body = json.dumps(  {\"majorDimension\": \"ROWS\",\"values\": result})\n",
    "\n",
    "#to update the google sheet a PUT request needs to be used\n",
    "google_response = requests.request(\"PUT\", google_put_url, headers=google_put_headers,params= google_put_params, data=request_body )\n",
    "google_response_pretty_json = json.loads(google_response.text)\n",
    "\n",
    "#this print statement formats the response nicely she if the operation has been successful returns the sheet ID and update details\n",
    "print(json.dumps(google_response_pretty_json, indent=4))"
   ]
  },
  {
   "cell_type": "code",
   "execution_count": null,
   "metadata": {},
   "outputs": [],
   "source": []
  }
 ],
 "metadata": {
  "kernelspec": {
   "display_name": "Python 3",
   "language": "python",
   "name": "python3"
  },
  "language_info": {
   "codemirror_mode": {
    "name": "ipython",
    "version": 3
   },
   "file_extension": ".py",
   "mimetype": "text/x-python",
   "name": "python",
   "nbconvert_exporter": "python",
   "pygments_lexer": "ipython3",
   "version": "3.6.10"
  }
 },
 "nbformat": 4,
 "nbformat_minor": 4
}
